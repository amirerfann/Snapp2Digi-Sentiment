{
 "cells": [
  {
   "cell_type": "code",
   "execution_count": 2,
   "metadata": {},
   "outputs": [
    {
     "name": "stdout",
     "output_type": "stream",
     "text": [
      "Preprocessing is complete and files are saved.\n"
     ]
    }
   ],
   "source": [
    "import pandas as pd\n",
    "from hazm import Normalizer, stopwords_list\n",
    "import re\n",
    "import os\n",
    "\n",
    "data_dir = os.path.join(\"..\", \"data\")\n",
    "\n",
    "df_snapp = pd.read_csv(os.path.join(data_dir, \"Snappfood - Sentiment Analysis.csv\"), sep=\"\\t\")\n",
    "df_digi = pd.read_excel(os.path.join(data_dir, \"comment.xlsx\"))\n",
    "\n",
    "normalizer = Normalizer()\n",
    "stop_words = set(stopwords_list())\n",
    "\n",
    "def clean_text(text):\n",
    "    text = str(text)\n",
    "    text = normalizer.normalize(text)\n",
    "    text = re.sub(r'[^\\w\\s]', '', text)         \n",
    "    text = re.sub(r'\\d+', '', text)             \n",
    "    text = re.sub(r'\\s+', ' ', text).strip()    \n",
    "    words = text.split()\n",
    "    words = [w for w in words if w not in stop_words]\n",
    "    return ' '.join(words)\n",
    "\n",
    "df_snapp['clean_text'] = df_snapp['comment'].apply(clean_text)\n",
    "df_snapp.to_csv(os.path.join(data_dir, \"snapp_cleaned.csv\"), index=False)\n",
    "\n",
    "df_digi['clean_text'] = df_digi['comment'].apply(clean_text)\n",
    "df_digi.to_csv(os.path.join(data_dir, \"digikala_cleaned.csv\"), index=False)\n",
    "\n",
    "print(\"Preprocessing is complete and files are saved.\")"
   ]
  }
 ],
 "metadata": {
  "kernelspec": {
   "display_name": "base",
   "language": "python",
   "name": "python3"
  },
  "language_info": {
   "codemirror_mode": {
    "name": "ipython",
    "version": 3
   },
   "file_extension": ".py",
   "mimetype": "text/x-python",
   "name": "python",
   "nbconvert_exporter": "python",
   "pygments_lexer": "ipython3",
   "version": "3.11.0"
  }
 },
 "nbformat": 4,
 "nbformat_minor": 2
}
